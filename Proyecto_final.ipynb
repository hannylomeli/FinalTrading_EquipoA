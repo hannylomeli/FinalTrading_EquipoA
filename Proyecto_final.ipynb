{
 "cells": [
  {
   "cell_type": "markdown",
   "metadata": {},
   "source": [
    "<img src=\"http://oci02.img.iteso.mx/identidad_de_instancia_2018/ITESO/Logos%20ITESO/Logo-ITESO-Principal.jpg\">"
   ]
  },
  {
   "cell_type": "markdown",
   "metadata": {},
   "source": [
    "<center><font color= #004A94> <font size = 6> Ingeniería Financiera </font> <br>"
   ]
  },
  {
   "cell_type": "markdown",
   "metadata": {},
   "source": [
    "<center> <font color= #004A94> <font size = 5> Microestructura y Sistemas de Trading </font> <br> <br> <font color= #047CFB> <font size = 5> Jose Luis Suárez de Alba </font> <br> <br> <font color= #047CFB> <font size = 5> Axel Munguía </font>  <br> <br> <font color= #047CFB> <font size = 5> Hannia Lomeli </font> <br> <br> <font color= #047CFB> <font size = 5> Paulina Milenka Glez Manrique </font> "
   ]
  },
  {
   "cell_type": "markdown",
   "metadata": {},
   "source": [
    "<center><font color= #42c29b> <font size = 6> Proyecto Final </font> <br> <br> <font color= #047CFB> <font size = 5>Repositorio: https://github.com/hannylomeli/FinalTrading_EquipoA <a href='https://github.com/'>Link</a></font>"
   ]
  },
  {
   "cell_type": "code",
   "execution_count": 3,
   "metadata": {},
   "outputs": [],
   "source": [
    "import pandas as pd\n",
    "import numpy as np\n",
    "import plotly.graph_objs as go\n",
    "from plotly.subplots import make_subplots\n",
    "from plotly.offline import download_plotlyjs, init_notebook_mode, plot, iplot\n",
    "import plotly.offline as py"
   ]
  },
  {
   "cell_type": "markdown",
   "metadata": {},
   "source": [
    "## Importación de datos "
   ]
  },
  {
   "cell_type": "markdown",
   "metadata": {},
   "source": [
    "#### Calendario económico"
   ]
  },
  {
   "cell_type": "code",
   "execution_count": 2,
   "metadata": {},
   "outputs": [
    {
     "data": {
      "text/html": [
       "<div>\n",
       "<style scoped>\n",
       "    .dataframe tbody tr th:only-of-type {\n",
       "        vertical-align: middle;\n",
       "    }\n",
       "\n",
       "    .dataframe tbody tr th {\n",
       "        vertical-align: top;\n",
       "    }\n",
       "\n",
       "    .dataframe thead th {\n",
       "        text-align: right;\n",
       "    }\n",
       "</style>\n",
       "<table border=\"1\" class=\"dataframe\">\n",
       "  <thead>\n",
       "    <tr style=\"text-align: right;\">\n",
       "      <th></th>\n",
       "      <th>timestamp</th>\n",
       "      <th>Currency</th>\n",
       "      <th>Name</th>\n",
       "      <th>Country</th>\n",
       "      <th>Volatility</th>\n",
       "      <th>actual</th>\n",
       "      <th>previous</th>\n",
       "      <th>consensus</th>\n",
       "    </tr>\n",
       "  </thead>\n",
       "  <tbody>\n",
       "    <tr>\n",
       "      <td>0</td>\n",
       "      <td>2009-01-05 09:30:00+00:00</td>\n",
       "      <td>EUR</td>\n",
       "      <td>Sentix Investor Confidence</td>\n",
       "      <td>European Monetary Union</td>\n",
       "      <td>1</td>\n",
       "      <td>-34.4</td>\n",
       "      <td>-42.3</td>\n",
       "      <td>NaN</td>\n",
       "    </tr>\n",
       "    <tr>\n",
       "      <td>1</td>\n",
       "      <td>2009-01-05 15:00:00+00:00</td>\n",
       "      <td>USD</td>\n",
       "      <td>Construction Spending (MoM)</td>\n",
       "      <td>United States</td>\n",
       "      <td>1</td>\n",
       "      <td>-1.2</td>\n",
       "      <td>-0.4</td>\n",
       "      <td>-1.3</td>\n",
       "    </tr>\n",
       "    <tr>\n",
       "      <td>2</td>\n",
       "      <td>2009-01-06 08:55:00+00:00</td>\n",
       "      <td>EUR</td>\n",
       "      <td>Markit Services PMI</td>\n",
       "      <td>Germany</td>\n",
       "      <td>1</td>\n",
       "      <td>46.6</td>\n",
       "      <td>46.4</td>\n",
       "      <td>46.4</td>\n",
       "    </tr>\n",
       "    <tr>\n",
       "      <td>3</td>\n",
       "      <td>2009-01-06 09:00:00+00:00</td>\n",
       "      <td>EUR</td>\n",
       "      <td>Markit Services PMI</td>\n",
       "      <td>European Monetary Union</td>\n",
       "      <td>0</td>\n",
       "      <td>42.1</td>\n",
       "      <td>42.0</td>\n",
       "      <td>42.0</td>\n",
       "    </tr>\n",
       "    <tr>\n",
       "      <td>4</td>\n",
       "      <td>2009-01-06 10:00:00+00:00</td>\n",
       "      <td>EUR</td>\n",
       "      <td>Consumer Price Index (YoY)</td>\n",
       "      <td>European Monetary Union</td>\n",
       "      <td>2</td>\n",
       "      <td>1.6</td>\n",
       "      <td>2.1</td>\n",
       "      <td>1.8</td>\n",
       "    </tr>\n",
       "  </tbody>\n",
       "</table>\n",
       "</div>"
      ],
      "text/plain": [
       "                  timestamp Currency                         Name  \\\n",
       "0 2009-01-05 09:30:00+00:00      EUR   Sentix Investor Confidence   \n",
       "1 2009-01-05 15:00:00+00:00      USD  Construction Spending (MoM)   \n",
       "2 2009-01-06 08:55:00+00:00      EUR          Markit Services PMI   \n",
       "3 2009-01-06 09:00:00+00:00      EUR          Markit Services PMI   \n",
       "4 2009-01-06 10:00:00+00:00      EUR   Consumer Price Index (YoY)   \n",
       "\n",
       "                   Country  Volatility  actual  previous  consensus  \n",
       "0  European Monetary Union           1   -34.4     -42.3        NaN  \n",
       "1            United States           1    -1.2      -0.4       -1.3  \n",
       "2                  Germany           1    46.6      46.4       46.4  \n",
       "3  European Monetary Union           0    42.1      42.0       42.0  \n",
       "4  European Monetary Union           2     1.6       2.1        1.8  "
      ]
     },
     "execution_count": 2,
     "metadata": {},
     "output_type": "execute_result"
    }
   ],
   "source": [
    "data = pd.read_csv('../V_myst_laboratorio4/calendario_economico.csv',header=0, index_col=None, parse_dates=False)\n",
    "data['timestamp'] = [pd.to_datetime(data.iat[i,0]).tz_localize('GMT') for i in range(len(data))] # Timestamp a 'GMT'\n",
    "data.head()"
   ]
  },
  {
   "cell_type": "code",
   "execution_count": null,
   "metadata": {},
   "outputs": [],
   "source": []
  }
 ],
 "metadata": {
  "kernelspec": {
   "display_name": "Python 3",
   "language": "python",
   "name": "python3"
  },
  "language_info": {
   "codemirror_mode": {
    "name": "ipython",
    "version": 3
   },
   "file_extension": ".py",
   "mimetype": "text/x-python",
   "name": "python",
   "nbconvert_exporter": "python",
   "pygments_lexer": "ipython3",
   "version": "3.7.0"
  }
 },
 "nbformat": 4,
 "nbformat_minor": 2
}
